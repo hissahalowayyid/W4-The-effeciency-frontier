{
 "cells": [
  {
   "cell_type": "markdown",
   "metadata": {},
   "source": [
    "Week 4, Assignment C1:\n",
    "\n",
    "CAPM and Modern Portfolio Theory in Python\n",
    "\n",
    "In this notebook, we will study Modern Portfolio Theory in Python.\n",
    "Please complete the lines bellow where you see \"# TODO\"."
   ]
  },
  {
   "cell_type": "code",
   "execution_count": 1,
   "metadata": {},
   "outputs": [],
   "source": [
    "#Objective 1.\n",
    "#Use this cell to import Numpy (as np) and Pyplot (from Matplotlib as plt) packages.\n",
    "\n",
    "import numpy as np\n",
    "from matplotlib import pyplot as plt"
   ]
  },
  {
   "cell_type": "code",
   "execution_count": 2,
   "metadata": {},
   "outputs": [],
   "source": [
    "#Objective 2.\n",
    "#Select a number of asset classes ( > 1 ) and a number of observations ( > 500 ).  Store your chosen values to the\n",
    "#two new variables \"no_of_asset_classes\" and \"no_of_observations\", respectively.\n",
    "\n",
    "#Sets the Number of Stocks for the Portfolio\n",
    "no_of_asset_classes = 4\n",
    "#Sets the Number of Days for which We Observe the Stock Prices\n",
    "no_of_observations = 600"
   ]
  },
  {
   "cell_type": "code",
   "execution_count": 3,
   "metadata": {},
   "outputs": [
    {
     "name": "stdout",
     "output_type": "stream",
     "text": [
      "[[-1.0856306   0.99734545  0.2829785  ... -1.39437511  0.91268794\n",
      "  -1.27357024]\n",
      " [ 1.14065624 -0.78816556  0.26523396 ... -0.2699179  -0.87632674\n",
      "  -1.42521096]\n",
      " [ 1.11170175  0.18095715  1.33280094 ... -0.14641577  1.16017595\n",
      "  -0.64151234]\n",
      " [-0.3002324  -0.63226078 -0.20431653 ...  0.63175892  1.01366576\n",
      "   0.24321171]]\n"
     ]
    }
   ],
   "source": [
    "np.random.seed(123)\n",
    "matrix_of_return_values = np.random.randn(no_of_asset_classes, no_of_observations)\n",
    "print(matrix_of_return_values)\n",
    "#Objective 3.\n",
    "#Select a number of test portfolios to generate ( > 1,000 < 20,000).  Store your chosen value to the new variable\n",
    "#\"no_of_portfolios\".  \n",
    "\n",
    "#Sets the Number of Portfolios to Test\n",
    "no_of_portfolios = 10000"
   ]
  },
  {
   "cell_type": "code",
   "execution_count": 4,
   "metadata": {},
   "outputs": [],
   "source": [
    "#Objective 4.\n",
    "#Initialize four empty lists called \"collection_of_random_asset_weights\", \"portfolio_means\",\n",
    "#\"portfolio_standard_deviations\", and \"portfolio_sharpe_ratios\", respectively.\n",
    "\n",
    "#Create Four Empty Lists to Store All of the Values for the Test Portfolios\n",
    "collection_of_random_asset_weights = []\n",
    "portfolio_means = []\n",
    "portfolio_standard_deviations = []\n",
    "portfolio_sharpe_ratios = []"
   ]
  },
  {
   "cell_type": "code",
   "execution_count": 5,
   "metadata": {},
   "outputs": [
    {
     "name": "stdout",
     "output_type": "stream",
     "text": [
      "[[0.39156758 0.26682271 0.2701836  0.07142611]]\n"
     ]
    }
   ],
   "source": [
    "#Objective 5.\n",
    "#Write a function called \"get_random_asset_weights\" that takes as input (Input.I) any number of asset classes\n",
    "#\"no_of_asset_classes\" and returns (Output.I) a Numpy vector (matrix) of weights (percentages) of length \"no_of_asset_classes\"\n",
    "#whose sum is one (1).\n",
    "\n",
    "#Initialize the Function and Specify its Name and the Name of its Input Variable\n",
    "def get_random_asset_weights(no_of_asset_classes):\n",
    "     #Generate a List? of Random Numbers of Length no_of_asset_classes\n",
    "    random_asset_weights = np.random.rand(no_of_asset_classes)\n",
    "    #Divide the Random Numbers in the List? random_asset_weights by Their Sum\n",
    "    #Make the Random Numbers in the List? random_asset_weights Be Fractions that Add to One (1)\n",
    "    random_asset_weights /= sum(random_asset_weights)\n",
    "    #Convert the List? random_asset_weights to Be a Numpy Matrix\n",
    "    random_asset_weights = np.asmatrix(random_asset_weights)\n",
    "    #Return the Numpy Matrix random_asset_weights as the Function Output\n",
    "    return random_asset_weights \n",
    "  \n",
    "print(get_random_asset_weights(no_of_asset_classes))"
   ]
  },
  {
   "cell_type": "code",
   "execution_count": 6,
   "metadata": {},
   "outputs": [],
   "source": [
    "#Objective 6.\n",
    "#Write a function called \"get_portfolio_statistics\" that takes as input (Input.I) a Numpy vector (matrix)\n",
    "#\"asset_weights\" of weights (percentages) whose sum is one (1) and (Input.II) a Numpy matrix of return values\n",
    "#\"matrix_of_return_values\" whose first axis length is the same as the length of the Numpy vector (matrix)\n",
    "#\"asset_weights\" and returns (Output.I) the mean \"portfolio_mean\", (Output.II) the standard deviation\n",
    "#\"portfolio_standard_deviation\", and (Output.III) the Sharpe ratio \"portfolio_sharpe_ratio\" of the portfolio of\n",
    "#assets with asset weights \"asset_weights\" and asset return values belonging to \"matrix_of_return_values\".\n",
    "\n",
    "#Initialize the Function and Specify its Name and the Names of its Input Variables\n",
    "def get_portfolio_statistics(asset_weights, matrix_of_return_values):\n",
    "    #Calculates the Numpy Vector (Matrix) of Means for the Different Stocks Over Time\n",
    "    asset_means = np.asmatrix(np.mean(matrix_of_return_values, axis = 1))\n",
    "    #Calculates the Numpy Matrix of Covariances for the Different Stocks Over Time\n",
    "    asset_covariances = np.asmatrix(np.cov(matrix_of_return_values))\n",
    "    #Calculate the Portfolio Mean for the Portfolio Determined by asset_weights\n",
    "    portfolio_mean = asset_weights * asset_means.T # <-- This is just the formula.\n",
    "    #Capture the Single Float from the Numpy Matrix\n",
    "    portfolio_mean = portfolio_mean.item()\n",
    "    #Calculate the Portfolio Standard Deviation for the Portfolio Determined by asset_weights\n",
    "    portfolio_standard_deviation = np.sqrt(asset_weights * asset_covariances * asset_weights.T)  # <-- This is just the formula.\n",
    "    #Capture the Single Float from the Numpy Matrix\n",
    "    portfolio_standard_deviation = portfolio_standard_deviation.item()\n",
    "    #Calculate the Portfolio Sharpe Ratio for the Portolio Determined by asset_weights\n",
    "    portfolio_sharpe_ratio = portfolio_mean / portfolio_standard_deviation\n",
    "    #Return the Function Outputs\n",
    "    return portfolio_mean, portfolio_standard_deviation, portfolio_sharpe_ratio #Rewards, Risks, rewards/risks"
   ]
  },
  {
   "cell_type": "code",
   "execution_count": 7,
   "metadata": {},
   "outputs": [],
   "source": [
    "#Objective 7.\n",
    "#Using the functions constructed in Objectives 5 and 6, write a loop that, on each iteration, determines a\n",
    "#Numpy vector (matrix) of weights (percentages) \"random_asset_weights\" of length \"no_of_asset_classes\" whose sum \n",
    "#is one (1) and then appends to each of the lists \"collection_of_random_asset_weights\", \"portfolio_means\",\n",
    "#\"portfolio_standard_deviations\", and \"portfolio_sharpe_ratios\" the Numpy vector (matrix) of weights (percentages)\n",
    "#\"random_asset_weights\"; and the mean \"portfolio_mean\", the standard deviation \"portfolio_standard_deviation\", and\n",
    "#the Sharpe ratio \"portfolio_sharpe_ratio\" of the portfolio of assets with asset weights \"asset_weights\" and asset \n",
    "#return values belonging to \"matrix_of_return_values\", respectively.\n",
    "\n",
    "#Initialize a While Loop that Ends After no_of_portfolios Number of Iterations\n",
    "while len(collection_of_random_asset_weights) < no_of_portfolios:\n",
    "    #Get random_asset_weights by Calling the Function get_random_asset_weights\n",
    "    random_asset_weights = get_random_asset_weights(no_of_asset_classes)\n",
    "    #Append random_asset_weights to the List collection_of_random_asset_weights\n",
    "    collection_of_random_asset_weights.append(random_asset_weights) \n",
    "    #A,B,C=get_portfolio_statistics(random_asset_weights, matrix_of_return_values)\n",
    "    #portfolio_means.append(A)\n",
    "    #portfolio_standard_deviations.append(B)\n",
    "    #portfolio_sharpe_ratios.append(C)\n",
    "    \n",
    "     #Append portfolio_mean to the List portfolio_means\n",
    "    portfolio_means.append(get_portfolio_statistics(random_asset_weights, matrix_of_return_values)[0])\n",
    "    #Append portfolio_standard_deviation to the List portfolio_standard_deviations\n",
    "    portfolio_standard_deviations.append(get_portfolio_statistics(random_asset_weights, matrix_of_return_values)[1])\n",
    "    #Append portfolio_sharpe_ratio to the List portfolio_sharpe_ratios\n",
    "    portfolio_sharpe_ratios.append(get_portfolio_statistics(random_asset_weights, matrix_of_return_values)[2])\n",
    "    \n",
    "#print(collection_of_random_asset_weights)"
   ]
  },
  {
   "cell_type": "code",
   "execution_count": 8,
   "metadata": {},
   "outputs": [
    {
     "data": {
      "image/png": "[encoded data removed]",
      "text/plain": [
       "<Figure size 432x288 with 1 Axes>"
      ]
     },
     "metadata": {
      "needs_background": "light"
     },
     "output_type": "display_data"
    }
   ],
   "source": [
    "#Objective 8.\n",
    "#Make a scatterplot of the corresponding values (x,y) = (portfolio_standard_deviation, portfolio_mean) from the\n",
    "#lists \"portfolio_standard_deviations\" and \"portfolio_means\", respectively.\n",
    "\n",
    "plt.plot(portfolio_standard_deviations, portfolio_means, 'o', markersize = 3, color = 'lightskyblue') \n",
    "plt.show()"
   ]
  },
  {
   "cell_type": "code",
   "execution_count": 9,
   "metadata": {},
   "outputs": [
    {
     "name": "stdout",
     "output_type": "stream",
     "text": [
      "895\n"
     ]
    }
   ],
   "source": [
    "#Objective 9.\n",
    "#Find the list index of the portfolio of highest Sharpe ratio.\n",
    "\n",
    "#index = max(portfolio_sharpe_ratios)\n",
    "index = portfolio_sharpe_ratios.index(max(portfolio_sharpe_ratios))\n",
    "print(index)"
   ]
  },
  {
   "cell_type": "code",
   "execution_count": 10,
   "metadata": {},
   "outputs": [
    {
     "name": "stdout",
     "output_type": "stream",
     "text": [
      "[[0.1615472  0.01150555 0.00317708 0.82377017]]\n",
      "0.06526274218386272\n"
     ]
    }
   ],
   "source": [
    "#Objective 10.\n",
    "#Print the asset weights and Sharpe ratio of the portfolio of highest Sharpe ratio, using index above.\n",
    "\n",
    "print(collection_of_random_asset_weights[index])\n",
    "print(portfolio_sharpe_ratios[index])"
   ]
  },
  {
   "cell_type": "code",
   "execution_count": 11,
   "metadata": {},
   "outputs": [
    {
     "data": {
      "image/png": "[encoded data removed]",
      "text/plain": [
       "<Figure size 432x288 with 1 Axes>"
      ]
     },
     "metadata": {
      "needs_background": "light"
     },
     "output_type": "display_data"
    }
   ],
   "source": [
    "#Objective 11.\n",
    "#Add the Capital Market Line to your scatterplot from Objective 8.\n",
    "\n",
    "x = np.linspace(0, max(portfolio_standard_deviations), 10000)\n",
    "y = portfolio_sharpe_ratios[index] * x\n",
    "plt.plot(portfolio_standard_deviations, portfolio_means, 'o', markersize = 3, color = 'lightskyblue')\n",
    "plt.plot(x, y, '-', linewidth = 2, color = 'green')\n",
    "plt.show()"
   ]
  },
  {
   "cell_type": "code",
   "execution_count": 12,
   "metadata": {},
   "outputs": [],
   "source": [
    "#Objective 12.\n",
    "#All of the work in this notebook assumes a risk-free rate of zero (0.00).  How could this work be modified to\n",
    "#accommodate a nonzero risk-free rate?  Explain."
   ]
  },
  {
   "cell_type": "markdown",
   "metadata": {},
   "source": [
    "-- the market capital line will start from different point and the line wil move from the start point. "
   ]
  }
 ],
 "metadata": {
  "kernelspec": {
   "display_name": "Python 3",
   "language": "python",
   "name": "python3"
  },
  "language_info": {
   "codemirror_mode": {
    "name": "ipython",
    "version": 3
   },
   "file_extension": ".py",
   "mimetype": "text/x-python",
   "name": "python",
   "nbconvert_exporter": "python",
   "pygments_lexer": "ipython3",
   "version": "3.8.8"
  }
 },
 "nbformat": 4,
 "nbformat_minor": 4
}
